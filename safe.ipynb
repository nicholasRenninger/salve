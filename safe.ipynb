{
 "cells": [
  {
   "cell_type": "code",
   "execution_count": null,
   "metadata": {},
   "outputs": [],
   "source": [
    "import jax.numpy as jnp\n",
    "\n",
    "import plotly.graph_objects as go\n",
    "import plotly.express as px\n",
    "import pandas as pd\n",
    "\n",
    "from salve import compute_safe_path, compute, U, grad_U"
   ]
  },
  {
   "attachments": {},
   "cell_type": "markdown",
   "metadata": {},
   "source": [
    "based on https://github.com/nicholasRenninger/cSpaceViz_Gradient_Wavefront_planners/blob/master/planners/gradient_planner.py"
   ]
  },
  {
   "cell_type": "code",
   "execution_count": null,
   "metadata": {},
   "outputs": [],
   "source": [
    "q_start = jnp.array([1.0, 1.0])\n",
    "q_goal = jnp.array([0.0, 0.0])\n",
    "q_obstacles = jnp.array([[0.5, 0.5], [0.5, 0.1], [0.1, 0.5]])\n",
    "\n",
    "q_history = compute_safe_path(\n",
    "    q_start=q_start,\n",
    "    q_goal=q_goal,\n",
    "    q_obstacles=q_obstacles,\n",
    "    # q_obstacles=jnp.array([]),\n",
    "    grad_desc_rate=1e-3,\n",
    "    zero_grad_tol=1e-4,\n",
    "    N=1000\n",
    ")"
   ]
  },
  {
   "cell_type": "code",
   "execution_count": null,
   "metadata": {},
   "outputs": [],
   "source": [
    "# mag_grad_U_values = jnp.linalg.norm(jnp.nan_to_num(compute(grad_U, jnp.vstack(q_history), q_goal, q_obstacles)), axis=1)\n",
    "U_values = compute(U, jnp.vstack(q_history), q_goal, q_obstacles)\n",
    "\n",
    "df = pd.DataFrame(\n",
    "    {\"iters\": jnp.array(range(0, len(q_history))),\n",
    "     \"q0\": [q[0] for q in q_history],\n",
    "     \"q1\": [q[1] for q in q_history],\n",
    "     \"U_values\": U_values,}\n",
    "    #  \"mag_grad_U_values\": mag_grad_U_values}\n",
    ")\n",
    "fig_3d = px.line_3d(df, x=\"q0\", y=\"q1\", z=\"U_values\", height=800)\n",
    "fig_3d = fig_3d.update_traces(line={\"width\": 6.0, \"color\": \"red\"})"
   ]
  },
  {
   "cell_type": "code",
   "execution_count": null,
   "metadata": {},
   "outputs": [],
   "source": [
    "grid_resolution = 100\n",
    "q0, q1 = jnp.mgrid[-1:1:1/(grid_resolution), -1:1:1/grid_resolution]\n",
    "q_vstacked = jnp.vstack(list(zip(q0.ravel(), q1.ravel())))\n",
    "\n",
    "U_values = compute(U, q_vstacked, q_goal, q_obstacles)\n",
    "U_values = jnp.reshape(U_values, q0.shape)\n",
    "\n",
    "fig_3d.add_trace(go.Surface(z=U_values, x=q0, y=q1))\n",
    "fig_3d.show()"
   ]
  },
  {
   "cell_type": "code",
   "execution_count": null,
   "metadata": {},
   "outputs": [],
   "source": [
    "# grid_resolution = 100\n",
    "# q0, q1 = np.mgrid[0:1:1/(grid_resolution), 0:1:1/grid_resolution]\n",
    "# q_vstacked = np.vstack(list(zip(q0.ravel(), q1.ravel())))\n",
    "\n",
    "# grad_U_values = compute(grad_U, q_vstacked, q_goal, q_obstacles)\n",
    "# grad_U_values = jnp.reshape(jnp.linalg.norm(grad_U_values, axis=1), q0.shape)\n",
    "\n",
    "# fig = go.Figure(data=[go.Surface(z=grad_U_values, x=q0, y=q1)])\n",
    "# fig.show()"
   ]
  }
 ],
 "metadata": {
  "kernelspec": {
   "display_name": ".venv",
   "language": "python",
   "name": "python3"
  },
  "language_info": {
   "codemirror_mode": {
    "name": "ipython",
    "version": 3
   },
   "file_extension": ".py",
   "mimetype": "text/x-python",
   "name": "python",
   "nbconvert_exporter": "python",
   "pygments_lexer": "ipython3",
   "version": "3.8.10 (default, Nov 14 2022, 12:59:47) \n[GCC 9.4.0]"
  },
  "orig_nbformat": 4,
  "vscode": {
   "interpreter": {
    "hash": "3328c0fae4a70354983e779ef3306bc70eff39142f5a4bbb8aa330c95ac2065a"
   }
  }
 },
 "nbformat": 4,
 "nbformat_minor": 2
}
